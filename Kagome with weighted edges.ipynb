{
 "cells": [
  {
   "cell_type": "code",
   "execution_count": 2,
   "metadata": {},
   "outputs": [],
   "source": [
    "import numpy as np\n",
    "import matplotlib.pyplot as plt \n",
    "import networkx as nx\n",
    "from scipy.sparse.csgraph import laplacian\n",
    "import sympy as sym"
   ]
  },
  {
   "cell_type": "code",
   "execution_count": 3,
   "metadata": {},
   "outputs": [],
   "source": [
    "x = sym.symbols('x')\n"
   ]
  },
  {
   "cell_type": "code",
   "execution_count": 58,
   "metadata": {},
   "outputs": [],
   "source": [
    "##KAGOME \n",
    "\n",
    "n = 7\n",
    "Am_size = 5*n+1\n",
    "Am = sym.zeros(Am_size,Am_size)\n",
    "\n",
    "middle = False\n",
    "j = 0\n",
    "while j<Am_size:\n",
    "    i = 0\n",
    "    while i<Am_size:\n",
    "        if i in [0,1,3] and j in [0,1,3]:\n",
    "            if abs(i-j) == 3:\n",
    "                Am[i,j] = 1\n",
    "            elif abs(i-j) == 1:\n",
    "                Am[i,j] = 1\n",
    "        elif i in [5*n,5*n-1,5*n-3] and j in [5*n,5*n-1,5*n-3]:\n",
    "            if abs(i-j) == 3:\n",
    "                Am[i,j] = 1\n",
    "            elif abs(i-j) == 1:\n",
    "                Am[i,j] = 1\n",
    "        elif ((i%5 == 0 or j%5 == 0) and (i!=5*n and j!=5*n) and  (i!=0 and j!=0)):\n",
    "            if i%5 == 0:\n",
    "                m = int(i/5)\n",
    "            elif j%5 ==0:\n",
    "                m = int(j/5)\n",
    "            Am[5*m - 4, 5*m -3] = x\n",
    "            Am[5*m - 3, 5*m -4] = x\n",
    "            \n",
    "            Am[5*m - 3, 5*m +1] = 1\n",
    "            Am[5*m +1, 5*m -3] = 1\n",
    "            \n",
    "            Am[5*m+1, 5*m+2] = 1\n",
    "            Am[5*m+2, 5*m+1] = 1\n",
    "            \n",
    "            Am[5*m-1, 5*m+3] = x\n",
    "            Am[5*m+3, 5*m-1] = x\n",
    "            \n",
    "            Am[5*m-1, 5*m -2] = 1\n",
    "            Am[5*m-2, 5*m -1] = 1\n",
    "            \n",
    "            Am[5*m + 3, 5*m +4] =1\n",
    "            Am[5*m + 4, 5*m +3] =1\n",
    "            \n",
    "            if abs(i-j) in [1,3]:\n",
    "                Am[i,j] = 1\n",
    "        i = i+1\n",
    "    j = j+1\n",
    "            \n"
   ]
  },
  {
   "cell_type": "code",
   "execution_count": 59,
   "metadata": {},
   "outputs": [],
   "source": [
    "## COMPUTING LAPLACIAN\n",
    "Laplacian = Am\n",
    "s = 0\n",
    "while s<Am_size:\n",
    "    r = 0\n",
    "    sum_of_col = 0\n",
    "    while r<Am_size:\n",
    "        if s!=r:\n",
    "            sum_of_col = sum_of_col + Laplacian[s,r]\n",
    "            Laplacian[s,r] = -Laplacian[s,r]\n",
    "        r=r+1\n",
    "    Laplacian[s,s] = sum_of_col\n",
    "    s =s+1\n",
    "        \n",
    "    "
   ]
  },
  {
   "cell_type": "code",
   "execution_count": 60,
   "metadata": {
    "scrolled": true
   },
   "outputs": [],
   "source": [
    "Laplacian.col_del(1)\n",
    "Laplacian.row_del(1)"
   ]
  },
  {
   "cell_type": "code",
   "execution_count": 61,
   "metadata": {},
   "outputs": [],
   "source": [
    "n3 = Laplacian.det()"
   ]
  },
  {
   "cell_type": "code",
   "execution_count": 62,
   "metadata": {},
   "outputs": [
    {
     "data": {
      "text/latex": [
       "$\\displaystyle 285093750 x^{12} + 1762565625 x^{11} + 4747771875 x^{10} + 7364555625 x^{9} + 7325524125 x^{8} + 4924295130 x^{7} + 2296134516 x^{6} + 749728854 x^{5} + 170604714 x^{4} + 26474949 x^{3} + 2669193 x^{2} + 157545 x + 4131$"
      ],
      "text/plain": [
       "285093750*x**12 + 1762565625*x**11 + 4747771875*x**10 + 7364555625*x**9 + 7325524125*x**8 + 4924295130*x**7 + 2296134516*x**6 + 749728854*x**5 + 170604714*x**4 + 26474949*x**3 + 2669193*x**2 + 157545*x + 4131"
      ]
     },
     "execution_count": 62,
     "metadata": {},
     "output_type": "execute_result"
    }
   ],
   "source": [
    "n3"
   ]
  },
  {
   "cell_type": "code",
   "execution_count": 57,
   "metadata": {},
   "outputs": [],
   "source": [
    "n2 = Laplacian.det()"
   ]
  },
  {
   "cell_type": "code",
   "execution_count": 22,
   "metadata": {},
   "outputs": [
    {
     "data": {
      "text/latex": [
       "$\\displaystyle 15278125 x^{10} + 78168750 x^{9} + 169342500 x^{8} + 204428500 x^{7} + 152277225 x^{6} + 73200264 x^{5} + 23053975 x^{4} + 4717284 x^{3} + 603342 x^{2} + 43794 x + 1377$"
      ],
      "text/plain": [
       "15278125*x**10 + 78168750*x**9 + 169342500*x**8 + 204428500*x**7 + 152277225*x**6 + 73200264*x**5 + 23053975*x**4 + 4717284*x**3 + 603342*x**2 + 43794*x + 1377"
      ]
     },
     "execution_count": 22,
     "metadata": {},
     "output_type": "execute_result"
    }
   ],
   "source": [
    "n2"
   ]
  },
  {
   "cell_type": "code",
   "execution_count": 24,
   "metadata": {},
   "outputs": [],
   "source": [
    "quo, rem = sym.div(n2,n3, domain = 'RR')"
   ]
  },
  {
   "cell_type": "code",
   "execution_count": 25,
   "metadata": {},
   "outputs": [
    {
     "data": {
      "text/latex": [
       "$\\displaystyle 18.6603053435114 x^{2} + 19.8919235475788 x + 2.15110325160326$"
      ],
      "text/plain": [
       "18.6603053435114*x**2 + 19.8919235475788*x + 2.15110325160326"
      ]
     },
     "execution_count": 25,
     "metadata": {},
     "output_type": "execute_result"
    }
   ],
   "source": [
    "quo"
   ]
  },
  {
   "cell_type": "code",
   "execution_count": 26,
   "metadata": {},
   "outputs": [
    {
     "data": {
      "text/latex": [
       "$\\displaystyle 705058.304751645 x^{7} + 2101541.8858978 x^{6} + 2475576.95362105 x^{5} + 1496181.39199429 x^{4} + 503477.768824573 x^{3} + 95350.2700521807 x^{2} + 9515.05897716762 x + 389.643607514104$"
      ],
      "text/plain": [
       "705058.304751645*x**7 + 2101541.8858978*x**6 + 2475576.95362105*x**5 + 1496181.39199429*x**4 + 503477.768824573*x**3 + 95350.2700521807*x**2 + 9515.05897716762*x + 389.643607514104"
      ]
     },
     "execution_count": 26,
     "metadata": {},
     "output_type": "execute_result"
    }
   ],
   "source": [
    "rem"
   ]
  },
  {
   "cell_type": "code",
   "execution_count": 27,
   "metadata": {},
   "outputs": [
    {
     "data": {
      "image/png": "[encoded data removed]",
      "text/plain": [
       "<Figure size 432x288 with 1 Axes>"
      ]
     },
     "metadata": {
      "needs_background": "light"
     },
     "output_type": "display_data"
    }
   ],
   "source": [
    "p1 = sym.plot(quo)"
   ]
  },
  {
   "cell_type": "code",
   "execution_count": 28,
   "metadata": {},
   "outputs": [
    {
     "data": {
      "text/latex": [
       "$\\displaystyle 40.7033321426935$"
      ],
      "text/plain": [
       "40.7033321426935"
      ]
     },
     "execution_count": 28,
     "metadata": {},
     "output_type": "execute_result"
    }
   ],
   "source": [
    "quo.subs(x,1)"
   ]
  },
  {
   "cell_type": "code",
   "execution_count": 29,
   "metadata": {},
   "outputs": [
    {
     "data": {
      "text/latex": [
       "$\\displaystyle 7387091.27772622$"
      ],
      "text/plain": [
       "7387091.27772622"
      ]
     },
     "execution_count": 29,
     "metadata": {},
     "output_type": "execute_result"
    }
   ],
   "source": [
    "rem.subs(x,1)"
   ]
  },
  {
   "cell_type": "code",
   "execution_count": 30,
   "metadata": {},
   "outputs": [],
   "source": [
    "divn = n3/n2"
   ]
  },
  {
   "cell_type": "code",
   "execution_count": 31,
   "metadata": {},
   "outputs": [
    {
     "data": {
      "image/png": "[encoded data removed]",
      "text/plain": [
       "<Figure size 432x288 with 1 Axes>"
      ]
     },
     "metadata": {
      "needs_background": "light"
     },
     "output_type": "display_data"
    }
   ],
   "source": [
    "p2 = sym.plot(divn)"
   ]
  },
  {
   "cell_type": "code",
   "execution_count": 159,
   "metadata": {},
   "outputs": [],
   "source": [
    "result = divn.subs(x,-0.23)"
   ]
  },
  {
   "cell_type": "code",
   "execution_count": 160,
   "metadata": {},
   "outputs": [
    {
     "data": {
      "text/plain": [
       "-0.39111747851002865"
      ]
     },
     "execution_count": 160,
     "metadata": {},
     "output_type": "execute_result"
    }
   ],
   "source": [
    "float(result)"
   ]
  },
  {
   "cell_type": "code",
   "execution_count": 135,
   "metadata": {},
   "outputs": [
    {
     "data": {
      "text/plain": [
       "[CRootOf(13210079*x**11 + 123019309*x**10 + 513328791*x**9 + 1267114671*x**8 + 2056304637*x**7 + 2304191043*x**6 + 1819791036*x**5 + 1013330412*x**4 + 390031767*x**3 + 98867709*x**2 + 14860665*x + 1003833, 0),\n",
       " CRootOf(13210079*x**11 + 123019309*x**10 + 513328791*x**9 + 1267114671*x**8 + 2056304637*x**7 + 2304191043*x**6 + 1819791036*x**5 + 1013330412*x**4 + 390031767*x**3 + 98867709*x**2 + 14860665*x + 1003833, 1),\n",
       " CRootOf(13210079*x**11 + 123019309*x**10 + 513328791*x**9 + 1267114671*x**8 + 2056304637*x**7 + 2304191043*x**6 + 1819791036*x**5 + 1013330412*x**4 + 390031767*x**3 + 98867709*x**2 + 14860665*x + 1003833, 2),\n",
       " CRootOf(13210079*x**11 + 123019309*x**10 + 513328791*x**9 + 1267114671*x**8 + 2056304637*x**7 + 2304191043*x**6 + 1819791036*x**5 + 1013330412*x**4 + 390031767*x**3 + 98867709*x**2 + 14860665*x + 1003833, 3),\n",
       " CRootOf(13210079*x**11 + 123019309*x**10 + 513328791*x**9 + 1267114671*x**8 + 2056304637*x**7 + 2304191043*x**6 + 1819791036*x**5 + 1013330412*x**4 + 390031767*x**3 + 98867709*x**2 + 14860665*x + 1003833, 4),\n",
       " CRootOf(13210079*x**11 + 123019309*x**10 + 513328791*x**9 + 1267114671*x**8 + 2056304637*x**7 + 2304191043*x**6 + 1819791036*x**5 + 1013330412*x**4 + 390031767*x**3 + 98867709*x**2 + 14860665*x + 1003833, 5),\n",
       " CRootOf(13210079*x**11 + 123019309*x**10 + 513328791*x**9 + 1267114671*x**8 + 2056304637*x**7 + 2304191043*x**6 + 1819791036*x**5 + 1013330412*x**4 + 390031767*x**3 + 98867709*x**2 + 14860665*x + 1003833, 6),\n",
       " CRootOf(13210079*x**11 + 123019309*x**10 + 513328791*x**9 + 1267114671*x**8 + 2056304637*x**7 + 2304191043*x**6 + 1819791036*x**5 + 1013330412*x**4 + 390031767*x**3 + 98867709*x**2 + 14860665*x + 1003833, 7),\n",
       " CRootOf(13210079*x**11 + 123019309*x**10 + 513328791*x**9 + 1267114671*x**8 + 2056304637*x**7 + 2304191043*x**6 + 1819791036*x**5 + 1013330412*x**4 + 390031767*x**3 + 98867709*x**2 + 14860665*x + 1003833, 8),\n",
       " CRootOf(13210079*x**11 + 123019309*x**10 + 513328791*x**9 + 1267114671*x**8 + 2056304637*x**7 + 2304191043*x**6 + 1819791036*x**5 + 1013330412*x**4 + 390031767*x**3 + 98867709*x**2 + 14860665*x + 1003833, 9),\n",
       " CRootOf(13210079*x**11 + 123019309*x**10 + 513328791*x**9 + 1267114671*x**8 + 2056304637*x**7 + 2304191043*x**6 + 1819791036*x**5 + 1013330412*x**4 + 390031767*x**3 + 98867709*x**2 + 14860665*x + 1003833, 10)]"
      ]
     },
     "execution_count": 135,
     "metadata": {},
     "output_type": "execute_result"
    }
   ],
   "source": [
    "sym.solve(divn,x)"
   ]
  },
  {
   "cell_type": "code",
   "execution_count": null,
   "metadata": {},
   "outputs": [],
   "source": []
  }
 ],
 "metadata": {
  "kernelspec": {
   "display_name": "Python 3",
   "language": "python",
   "name": "python3"
  },
  "language_info": {
   "codemirror_mode": {
    "name": "ipython",
    "version": 3
   },
   "file_extension": ".py",
   "mimetype": "text/x-python",
   "name": "python",
   "nbconvert_exporter": "python",
   "pygments_lexer": "ipython3",
   "version": "3.8.5"
  }
 },
 "nbformat": 4,
 "nbformat_minor": 4
}
